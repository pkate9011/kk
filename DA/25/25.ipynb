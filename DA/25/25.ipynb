{
 "cells": [
  {
   "cell_type": "code",
   "execution_count": 15,
   "id": "8ac49f4b-665a-4e6b-a041-26968cf8d87b",
   "metadata": {},
   "outputs": [
    {
     "name": "stderr",
     "output_type": "stream",
     "text": [
      "[nltk_data] Downloading package punkt to /home/sujal/nltk_data...\n",
      "[nltk_data]   Package punkt is already up-to-date!\n",
      "[nltk_data] Downloading package vader_lexicon to\n",
      "[nltk_data]     /home/sujal/nltk_data...\n",
      "[nltk_data]   Package vader_lexicon is already up-to-date!\n"
     ]
    },
    {
     "name": "stdout",
     "output_type": "stream",
     "text": [
      "Total Comments: 40092\n",
      "Positive Comments: 16366 ( 40.821111443679534 %)\n",
      "Negative Comments: 10077 ( 25.134690212511224 %)\n",
      "Neutral Comments: 13649 ( 34.04419834380924 %)\n"
     ]
    }
   ],
   "source": [
    "import pandas as pd\n",
    "import nltk\n",
    "from nltk.tokenize import word_tokenize\n",
    "from nltk.sentiment.vader import SentimentIntensityAnalyzer\n",
    "# read the dataset\n",
    "df = pd.read_csv('covid_2021_1.csv')\n",
    "# remove null values and duplicates\n",
    "df.dropna(inplace=True)\n",
    "df.drop_duplicates(subset='comment_text', inplace=True)\n",
    "# tokenize comments in words\n",
    "nltk.download('punkt')\n",
    "df['tokens'] = df['comment_text'].apply(nltk.word_tokenize)\n",
    "# perform sentiment analysis\n",
    "nltk.download('vader_lexicon')\n",
    "sia = SentimentIntensityAnalyzer()\n",
    "df['sentiment'] = df['comment_text'].apply(lambda x: sia.polarity_scores(x)['compound'])\n",
    "# calculate percentage of positive, negative, and neutral comments\n",
    "total_comments = len(df)\n",
    "positive_comments = len(df[df['sentiment'] > 0])\n",
    "negative_comments = len(df[df['sentiment'] < 0])\n",
    "neutral_comments = len(df[df['sentiment'] == 0])\n",
    "positive_percentage = (positive_comments / total_comments) * 100\n",
    "negative_percentage = (negative_comments / total_comments) * 100\n",
    "neutral_percentage = (neutral_comments / total_comments) * 100\n",
    "\n",
    "#print(\"\\n\",'Total Comments:', df['tokens'],\"\\n\")\n",
    "\n",
    "# print the results\n",
    "print('Total Comments:', total_comments)\n",
    "print('Positive Comments:', positive_comments, '(', positive_percentage, '%)')\n",
    "print('Negative Comments:', negative_comments, '(', negative_percentage, '%)')\n",
    "print('Neutral Comments:', neutral_comments, '(', neutral_percentage, '%)')"
   ]
  },
  {
   "cell_type": "code",
   "execution_count": null,
   "id": "ccddd7d4-4bd1-40e7-8aec-235eea587fac",
   "metadata": {},
   "outputs": [],
   "source": []
  }
 ],
 "metadata": {
  "kernelspec": {
   "display_name": "Python 3 (ipykernel)",
   "language": "python",
   "name": "python3"
  },
  "language_info": {
   "codemirror_mode": {
    "name": "ipython",
    "version": 3
   },
   "file_extension": ".py",
   "mimetype": "text/x-python",
   "name": "python",
   "nbconvert_exporter": "python",
   "pygments_lexer": "ipython3",
   "version": "3.11.7"
  }
 },
 "nbformat": 4,
 "nbformat_minor": 5
}
