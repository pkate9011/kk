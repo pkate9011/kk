{
 "cells": [
  {
   "cell_type": "code",
   "execution_count": 2,
   "id": "75d95c39",
   "metadata": {},
   "outputs": [
    {
     "name": "stdout",
     "output_type": "stream",
     "text": [
      "x_train:\n",
      " [[10]\n",
      " [ 2]\n",
      " [ 7]\n",
      " [ 8]\n",
      " [ 4]\n",
      " [ 1]\n",
      " [ 6]]\n",
      "y_train:\n",
      " [140000  60000 110000 120000  80000  50000 100000]\n",
      "x_test:\n",
      " [[3]\n",
      " [9]\n",
      " [5]]\n",
      "y_test:\n",
      " [ 70000 130000  90000]\n",
      "Coefficients: [10000.]\n",
      "Intercept: 40000.00000000002\n"
     ]
    }
   ],
   "source": [
    "import numpy as np\n",
    "import pandas as pd\n",
    "from sklearn.model_selection import train_test_split\n",
    "from sklearn.linear_model import LinearRegression\n",
    "data = {'YearsExperience': [1, 2, 3, 4, 5, 6, 7, 8, 9, 10], \n",
    "        'Salary': [50000, 60000, 70000, 80000, 90000, 100000, 110000, 120000, 130000, 140000]}\n",
    "df = pd.DataFrame(data)\n",
    "x = df.iloc[:, 0:1].values\n",
    "y = df.iloc[:, 1].values\n",
    "x_train, x_test, y_train, y_test = train_test_split(x, y, test_size=0.3, random_state=0)\n",
    "print(\"x_train:\\n\", x_train)\n",
    "print(\"y_train:\\n\", y_train)\n",
    "print(\"x_test:\\n\", x_test)\n",
    "print(\"y_test:\\n\", y_test)\n",
    "regressor = LinearRegression()\n",
    "regressor.fit(x_train, y_train)\n",
    "print(\"Coefficients:\", regressor.coef_)\n",
    "print(\"Intercept:\", regressor.intercept_)\n"
   ]
  },
  {
   "cell_type": "code",
   "execution_count": null,
   "id": "29004563",
   "metadata": {},
   "outputs": [],
   "source": []
  }
 ],
 "metadata": {
  "kernelspec": {
   "display_name": "Python 3 (ipykernel)",
   "language": "python",
   "name": "python3"
  },
  "language_info": {
   "codemirror_mode": {
    "name": "ipython",
    "version": 3
   },
   "file_extension": ".py",
   "mimetype": "text/x-python",
   "name": "python",
   "nbconvert_exporter": "python",
   "pygments_lexer": "ipython3",
   "version": "3.11.5"
  }
 },
 "nbformat": 4,
 "nbformat_minor": 5
}
