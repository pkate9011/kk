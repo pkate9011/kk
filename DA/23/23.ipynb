{
 "cells": [
  {
   "cell_type": "code",
   "execution_count": 1,
   "id": "f68bd577-a827-44f5-a02e-a955f74d5e99",
   "metadata": {},
   "outputs": [
    {
     "name": "stdout",
     "output_type": "stream",
     "text": [
      "Hello world This is a sample text paragraph It contains special characters and  digits\n"
     ]
    }
   ],
   "source": [
    "import re\n",
    "text = \"Hello, #world123! This is a sample text paragraph. It contains special characters and 5 digits.\"\n",
    "# Remove special characters and digits\n",
    "processed_text = re.sub(r'[^a-zA-Z\\s]', '', text)\n",
    "print(processed_text)"
   ]
  },
  {
   "cell_type": "code",
   "execution_count": null,
   "id": "8f36952a-5390-448c-903f-2612b992d19e",
   "metadata": {},
   "outputs": [],
   "source": []
  }
 ],
 "metadata": {
  "kernelspec": {
   "display_name": "Python 3 (ipykernel)",
   "language": "python",
   "name": "python3"
  },
  "language_info": {
   "codemirror_mode": {
    "name": "ipython",
    "version": 3
   },
   "file_extension": ".py",
   "mimetype": "text/x-python",
   "name": "python",
   "nbconvert_exporter": "python",
   "pygments_lexer": "ipython3",
   "version": "3.11.7"
  }
 },
 "nbformat": 4,
 "nbformat_minor": 5
}
