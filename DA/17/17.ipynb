{
 "cells": [
  {
   "cell_type": "code",
   "execution_count": 7,
   "id": "5638288f-7494-4bba-8cfa-2aeda288813c",
   "metadata": {},
   "outputs": [
    {
     "name": "stdout",
     "output_type": "stream",
     "text": [
      "So keep working Keep striving Never give up Fall down seven times get up eight Ease is a greater threat to progress than hardship Ease is a greater threat to progress than hardship So keep randon text character moving keep growing keep learning See you at work\n"
     ]
    }
   ],
   "source": [
    "import re\n",
    "from nltk.tokenize import sent_tokenize\n",
    "# Text paragraph\n",
    "text = \"\"\"So, keep working. Keep striving. Never give up. Fall down seven times, get up eight. Ease is a\n",
    "greater threat to progress than hardship. Ease is a greater threat to progress than hardship. So, keep @ 1 randon text character  ^\n",
    "moving, keep growing, keep learning. See you at work.\"\"\"\n",
    "# Remove special characters and digits\n",
    "text = re.sub('[^A-Za-z]+', ' ', text)\n",
    "# Tokenize the sentences\n",
    "sentences = sent_tokenize(text)\n",
    "# Calculate the score of each sentence based on the number of words\n",
    "# The sentences with more words will have a higher score\n",
    "scores = {}\n",
    "for sentence in sentences:\n",
    "    words = sentence.split()\n",
    "    score = len(words)\n",
    "    scores[sentence] = score\n",
    "# Sort the sentences based on their scores\n",
    "sorted_sentences = sorted(scores.items(), key=lambda x: x[1], reverse=True)\n",
    "# Extract the top 2 sentences with the highest scores as the summary\n",
    "summary_sentences = [sentence[0] for sentence in sorted_sentences[:2]]\n",
    "summary = \" \".join(summary_sentences)\n",
    "# Print the summary\n",
    "print(summary)"
   ]
  },
  {
   "cell_type": "code",
   "execution_count": null,
   "id": "b12da62f-27f3-46bc-adcc-af46b8206e81",
   "metadata": {},
   "outputs": [],
   "source": []
  }
 ],
 "metadata": {
  "kernelspec": {
   "display_name": "Python 3 (ipykernel)",
   "language": "python",
   "name": "python3"
  },
  "language_info": {
   "codemirror_mode": {
    "name": "ipython",
    "version": 3
   },
   "file_extension": ".py",
   "mimetype": "text/x-python",
   "name": "python",
   "nbconvert_exporter": "python",
   "pygments_lexer": "ipython3",
   "version": "3.11.7"
  }
 },
 "nbformat": 4,
 "nbformat_minor": 5
}
