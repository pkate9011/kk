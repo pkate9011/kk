{
 "cells": [
  {
   "cell_type": "code",
   "execution_count": 5,
   "id": "8c8f2603-79d9-4a58-957e-23b272779b49",
   "metadata": {},
   "outputs": [
    {
     "name": "stdout",
     "output_type": "stream",
     "text": [
      "Frequent itemsets with min_sup = 0.25\n",
      "    support                           itemsets\n",
      "0      0.25                            (apple)\n",
      "1      0.75                           (banana)\n",
      "2      0.25                          (cabbage)\n",
      "3      0.75                          (carrots)\n",
      "4      1.00                            (mango)\n",
      "5      0.25                    (banana, apple)\n",
      "6      0.25                     (mango, apple)\n",
      "7      0.25                  (banana, cabbage)\n",
      "8      0.50                  (banana, carrots)\n",
      "9      0.75                    (banana, mango)\n",
      "10     0.25                 (carrots, cabbage)\n",
      "11     0.25                   (mango, cabbage)\n",
      "12     0.75                   (carrots, mango)\n",
      "13     0.25             (banana, mango, apple)\n",
      "14     0.25         (banana, cabbage, carrots)\n",
      "15     0.25           (banana, mango, cabbage)\n",
      "16     0.50           (banana, mango, carrots)\n",
      "17     0.25          (carrots, mango, cabbage)\n",
      "18     0.25  (banana, mango, cabbage, carrots)\n",
      "\n",
      "\n",
      "Frequent itemsets with min_sup = 0.5\n",
      "   support                  itemsets\n",
      "0     0.75                  (banana)\n",
      "1     0.75                 (carrots)\n",
      "2     1.00                   (mango)\n",
      "3     0.50         (banana, carrots)\n",
      "4     0.75           (banana, mango)\n",
      "5     0.75          (carrots, mango)\n",
      "6     0.50  (banana, mango, carrots)\n",
      "\n",
      "\n",
      "Frequent itemsets with min_sup = 0.75\n",
      "   support          itemsets\n",
      "0     0.75          (banana)\n",
      "1     0.75         (carrots)\n",
      "2     1.00           (mango)\n",
      "3     0.75   (banana, mango)\n",
      "4     0.75  (carrots, mango)\n",
      "\n",
      "\n"
     ]
    }
   ],
   "source": [
    "from mlxtend.preprocessing import TransactionEncoder\n",
    "from mlxtend.frequent_patterns import apriori\n",
    "import pandas as pd\n",
    "# Create the dataset\n",
    "TID = {1:[\"apple\",\"mango\",\"banana\"],2:[\"mango\",\"banana\",\"cabbage\",\"carrots\"],3:[\"mango\",\"banana\",\"carrots\"],4:[\"mango\",\"carrots\"]}\n",
    "# Convert the categorical values into numeric format\n",
    "te = TransactionEncoder()\n",
    "te_ary = te.fit([TID[i] for i in TID]).transform([TID[i] for i in TID])\n",
    "df = pd.DataFrame(te_ary, columns=te.columns_)\n",
    "# Apply the apriori algorithm with different min_sup values\n",
    "min_sup_values = [0.25, 0.5, 0.75]\n",
    "for min_sup in min_sup_values:\n",
    "    frequent_itemsets = apriori(df, min_support=min_sup, use_colnames=True)\n",
    "    print(\"Frequent itemsets with min_sup =\", min_sup)\n",
    "    print(frequent_itemsets)\n",
    "    print(\"\\n\")"
   ]
  },
  {
   "cell_type": "code",
   "execution_count": null,
   "id": "634f236a-e337-434c-9577-b460fa4b38dc",
   "metadata": {},
   "outputs": [],
   "source": []
  }
 ],
 "metadata": {
  "kernelspec": {
   "display_name": "Python 3 (ipykernel)",
   "language": "python",
   "name": "python3"
  },
  "language_info": {
   "codemirror_mode": {
    "name": "ipython",
    "version": 3
   },
   "file_extension": ".py",
   "mimetype": "text/x-python",
   "name": "python",
   "nbconvert_exporter": "python",
   "pygments_lexer": "ipython3",
   "version": "3.11.7"
  }
 },
 "nbformat": 4,
 "nbformat_minor": 5
}
