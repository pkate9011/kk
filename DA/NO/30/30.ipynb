{
 "cells": [
  {
   "cell_type": "code",
   "execution_count": 1,
   "id": "5bb6bf10-23a6-453e-a5ac-e9953a9f21fd",
   "metadata": {},
   "outputs": [
    {
     "name": "stdout",
     "output_type": "stream",
     "text": [
      "[[1, 2, 3], [1, 4], [2, 3], [4, 2], [2, 4, 3]]\n"
     ]
    },
    {
     "ename": "AttributeError",
     "evalue": "'list' object has no attribute 'size'",
     "output_type": "error",
     "traceback": [
      "\u001b[0;31m---------------------------------------------------------------------------\u001b[0m",
      "\u001b[0;31mAttributeError\u001b[0m                            Traceback (most recent call last)",
      "Cell \u001b[0;32mIn[1], line 18\u001b[0m\n\u001b[1;32m     16\u001b[0m \u001b[38;5;28;01mfrom\u001b[39;00m \u001b[38;5;21;01mmlxtend\u001b[39;00m\u001b[38;5;21;01m.\u001b[39;00m\u001b[38;5;21;01mfrequent_patterns\u001b[39;00m \u001b[38;5;28;01mimport\u001b[39;00m apriori, association_rules\n\u001b[1;32m     17\u001b[0m \u001b[38;5;66;03m# Generate frequent itemsets with a minimum support of 0.4\u001b[39;00m\n\u001b[0;32m---> 18\u001b[0m frequent_itemsets \u001b[38;5;241m=\u001b[39m apriori(numeric_transactions, min_support\u001b[38;5;241m=\u001b[39m\u001b[38;5;241m0.4\u001b[39m, use_colnames\u001b[38;5;241m=\u001b[39m\u001b[38;5;28;01mTrue\u001b[39;00m)\n\u001b[1;32m     19\u001b[0m \u001b[38;5;66;03m# Generate association rules with a minimum confidence of 0.7\u001b[39;00m\n\u001b[1;32m     20\u001b[0m rules \u001b[38;5;241m=\u001b[39m association_rules(frequent_itemsets, metric\u001b[38;5;241m=\u001b[39m\u001b[38;5;124m\"\u001b[39m\u001b[38;5;124mconfidence\u001b[39m\u001b[38;5;124m\"\u001b[39m, min_threshold\u001b[38;5;241m=\u001b[39m\u001b[38;5;241m0.7\u001b[39m)\n",
      "File \u001b[0;32m~/Downloads/a/lib/python3.11/site-packages/mlxtend/frequent_patterns/apriori.py:241\u001b[0m, in \u001b[0;36mapriori\u001b[0;34m(df, min_support, use_colnames, max_len, verbose, low_memory)\u001b[0m\n\u001b[1;32m    234\u001b[0m \u001b[38;5;28;01mif\u001b[39;00m min_support \u001b[38;5;241m<\u001b[39m\u001b[38;5;241m=\u001b[39m \u001b[38;5;241m0.0\u001b[39m:\n\u001b[1;32m    235\u001b[0m     \u001b[38;5;28;01mraise\u001b[39;00m \u001b[38;5;167;01mValueError\u001b[39;00m(\n\u001b[1;32m    236\u001b[0m         \u001b[38;5;124m\"\u001b[39m\u001b[38;5;124m`min_support` must be a positive \u001b[39m\u001b[38;5;124m\"\u001b[39m\n\u001b[1;32m    237\u001b[0m         \u001b[38;5;124m\"\u001b[39m\u001b[38;5;124mnumber within the interval `(0, 1]`. \u001b[39m\u001b[38;5;124m\"\u001b[39m\n\u001b[1;32m    238\u001b[0m         \u001b[38;5;124m\"\u001b[39m\u001b[38;5;124mGot \u001b[39m\u001b[38;5;132;01m%s\u001b[39;00m\u001b[38;5;124m.\u001b[39m\u001b[38;5;124m\"\u001b[39m \u001b[38;5;241m%\u001b[39m min_support\n\u001b[1;32m    239\u001b[0m     )\n\u001b[0;32m--> 241\u001b[0m fpc\u001b[38;5;241m.\u001b[39mvalid_input_check(df)\n\u001b[1;32m    243\u001b[0m \u001b[38;5;28;01mif\u001b[39;00m \u001b[38;5;28mhasattr\u001b[39m(df, \u001b[38;5;124m\"\u001b[39m\u001b[38;5;124msparse\u001b[39m\u001b[38;5;124m\"\u001b[39m):\n\u001b[1;32m    244\u001b[0m     \u001b[38;5;66;03m# DataFrame with SparseArray (pandas >= 0.24)\u001b[39;00m\n\u001b[1;32m    245\u001b[0m     \u001b[38;5;28;01mif\u001b[39;00m df\u001b[38;5;241m.\u001b[39msize \u001b[38;5;241m==\u001b[39m \u001b[38;5;241m0\u001b[39m:\n",
      "File \u001b[0;32m~/Downloads/a/lib/python3.11/site-packages/mlxtend/frequent_patterns/fpcommon.py:94\u001b[0m, in \u001b[0;36mvalid_input_check\u001b[0;34m(df)\u001b[0m\n\u001b[1;32m     83\u001b[0m     msg \u001b[38;5;241m=\u001b[39m (\n\u001b[1;32m     84\u001b[0m         \u001b[38;5;124m\"\u001b[39m\u001b[38;5;124mSparseDataFrame support has been deprecated in pandas 1.0,\u001b[39m\u001b[38;5;124m\"\u001b[39m\n\u001b[1;32m     85\u001b[0m         \u001b[38;5;124m\"\u001b[39m\u001b[38;5;124m and is no longer supported in mlxtend. \u001b[39m\u001b[38;5;124m\"\u001b[39m\n\u001b[0;32m   (...)\u001b[0m\n\u001b[1;32m     90\u001b[0m         \u001b[38;5;124m\"\u001b[39m\u001b[38;5;124m for supporting sparse data in DataFrames.\u001b[39m\u001b[38;5;124m\"\u001b[39m\n\u001b[1;32m     91\u001b[0m     )\n\u001b[1;32m     92\u001b[0m     \u001b[38;5;28;01mraise\u001b[39;00m \u001b[38;5;167;01mTypeError\u001b[39;00m(msg)\n\u001b[0;32m---> 94\u001b[0m \u001b[38;5;28;01mif\u001b[39;00m df\u001b[38;5;241m.\u001b[39msize \u001b[38;5;241m==\u001b[39m \u001b[38;5;241m0\u001b[39m:\n\u001b[1;32m     95\u001b[0m     \u001b[38;5;28;01mreturn\u001b[39;00m\n\u001b[1;32m     96\u001b[0m \u001b[38;5;28;01mif\u001b[39;00m \u001b[38;5;28mhasattr\u001b[39m(df, \u001b[38;5;124m\"\u001b[39m\u001b[38;5;124msparse\u001b[39m\u001b[38;5;124m\"\u001b[39m):\n",
      "\u001b[0;31mAttributeError\u001b[0m: 'list' object has no attribute 'size'"
     ]
    }
   ],
   "source": [
    "import pandas as pd\n",
    "from mlxtend.preprocessing import TransactionEncoder\n",
    "from mlxtend.frequent_patterns import apriori, association_rules\n",
    "\n",
    "transactions = [['eggs', 'milk', 'bread'], ['eggs', 'apple'], ['milk', 'bread'], ['apple', 'milk'], ['milk', 'apple','bread']]\n",
    "\n",
    "# Create a dictionary to map items to unique numeric values\n",
    "item_to_num = {'eggs': 1, 'milk': 2, 'bread': 3, 'apple': 4}\n",
    "\n",
    "# Convert the categorical values in the dataset to numeric values\n",
    "numeric_transactions = []\n",
    "for transaction in transactions:\n",
    "    numeric_transaction = [item_to_num[item] for item in transaction]\n",
    "    numeric_transactions.append(numeric_transaction)\n",
    "print(numeric_transactions)\n",
    "from mlxtend.frequent_patterns import apriori, association_rules\n",
    "# Generate frequent itemsets with a minimum support of 0.4\n",
    "frequent_itemsets = apriori(numeric_transactions, min_support=0.4, use_colnames=True)\n",
    "# Generate association rules with a minimum confidence of 0.7\n",
    "rules = association_rules(frequent_itemsets, metric=\"confidence\", min_threshold=0.7)\n",
    "print(frequent_itemsets)\n",
    "print(rules)"
   ]
  },
  {
   "cell_type": "code",
   "execution_count": null,
   "id": "b587639f-27f0-414b-b486-3136f0551ee0",
   "metadata": {},
   "outputs": [],
   "source": []
  }
 ],
 "metadata": {
  "kernelspec": {
   "display_name": "Python 3 (ipykernel)",
   "language": "python",
   "name": "python3"
  },
  "language_info": {
   "codemirror_mode": {
    "name": "ipython",
    "version": 3
   },
   "file_extension": ".py",
   "mimetype": "text/x-python",
   "name": "python",
   "nbconvert_exporter": "python",
   "pygments_lexer": "ipython3",
   "version": "3.11.7"
  }
 },
 "nbformat": 4,
 "nbformat_minor": 5
}
