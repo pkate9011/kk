{
 "cells": [
  {
   "cell_type": "code",
   "execution_count": 1,
   "id": "82759fdf-fc53-491b-85cc-cfa2e1f79687",
   "metadata": {},
   "outputs": [
    {
     "name": "stdout",
     "output_type": "stream",
     "text": [
      "Hello , Welcome Python Programming Academy . Python Programming Academy nice platform learn new programming skills . difficult get enrolled Academy .\n"
     ]
    }
   ],
   "source": [
    "import nltk\n",
    "from nltk.corpus import stopwords\n",
    "from nltk.tokenize import word_tokenize\n",
    "# sample text paragraph\n",
    "text = \"Hello all, Welcome to Python Programming Academy. Python Programming Academy is a nice platform to learn new programming skills. It is difficult to get enrolled in this Academy.\"\n",
    "# tokenize the text paragraph\n",
    "words = word_tokenize(text)\n",
    "# define stopwords\n",
    "stop_words = set(stopwords.words('english'))\n",
    "# remove stopwords\n",
    "filtered_words = [word for word in words if word.casefold() not in stop_words]# join filtered words to form a sentence\n",
    "filtered_sentence = ' '.join(filtered_words)\n",
    "print(filtered_sentence)"
   ]
  },
  {
   "cell_type": "code",
   "execution_count": null,
   "id": "cd7a2b9d-2064-4901-9f99-0cb8efb00e5a",
   "metadata": {},
   "outputs": [],
   "source": []
  }
 ],
 "metadata": {
  "kernelspec": {
   "display_name": "Python 3 (ipykernel)",
   "language": "python",
   "name": "python3"
  },
  "language_info": {
   "codemirror_mode": {
    "name": "ipython",
    "version": 3
   },
   "file_extension": ".py",
   "mimetype": "text/x-python",
   "name": "python",
   "nbconvert_exporter": "python",
   "pygments_lexer": "ipython3",
   "version": "3.11.7"
  }
 },
 "nbformat": 4,
 "nbformat_minor": 5
}
