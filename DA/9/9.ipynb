{
 "cells": [
  {
   "cell_type": "code",
   "execution_count": 3,
   "id": "e4c0eb35-1627-40ea-a1f1-f6cf6f518812",
   "metadata": {},
   "outputs": [
    {
     "name": "stdout",
     "output_type": "stream",
     "text": [
      "Dataset information:\n",
      "<class 'pandas.core.frame.DataFrame'>\n",
      "RangeIndex: 10 entries, 0 to 9\n",
      "Data columns (total 4 columns):\n",
      " #   Column  Non-Null Count  Dtype\n",
      "---  ------  --------------  -----\n",
      " 0   item1   10 non-null     bool \n",
      " 1   item2   10 non-null     bool \n",
      " 2   item3   10 non-null     bool \n",
      " 3   item4   10 non-null     bool \n",
      "dtypes: bool(4)\n",
      "memory usage: 172.0 bytes\n",
      "None\n",
      "\n",
      "Frequent itemsets:\n",
      "   support        itemsets\n",
      "0      0.6         (item1)\n",
      "1      0.6         (item2)\n",
      "2      0.6         (item3)\n",
      "3      0.6         (item4)\n",
      "4      0.3  (item1, item2)\n",
      "5      0.3  (item3, item1)\n",
      "6      0.3  (item4, item1)\n",
      "7      0.3  (item3, item2)\n",
      "8      0.3  (item4, item2)\n",
      "9      0.3  (item3, item4)\n",
      "\n",
      "Association rules:\n",
      "Empty DataFrame\n",
      "Columns: [antecedents, consequents, antecedent support, consequent support, support, confidence, lift, leverage, conviction, zhangs_metric]\n",
      "Index: []\n"
     ]
    }
   ],
   "source": [
    "import pandas as pd\n",
    "from mlxtend.preprocessing import TransactionEncoder\n",
    "from mlxtend.frequent_patterns import apriori, association_rules\n",
    "items=['item1','item2','item3','item4']\n",
    "transactions = [ ['item1', 'item2', 'item3'],\n",
    "['item2', 'item3'],\n",
    "['item1', 'item2', 'item4'],\n",
    "['item1', 'item4'],['item2', 'item3', 'item4'],\n",
    "['item1', 'item3', 'item4'],\n",
    "['item1', 'item2'],\n",
    "['item1', 'item3'],\n",
    "['item3', 'item4'],\n",
    "['item2', 'item4']\n",
    "]\n",
    "from mlxtend.preprocessing import TransactionEncoder\n",
    "from mlxtend.frequent_patterns import apriori, association_rules\n",
    "# Convert the transactions into a binary matrix\n",
    "te = TransactionEncoder()\n",
    "te_ary = te.fit_transform(transactions)\n",
    "# Convert the binary matrix into a pandas DataFrame\n",
    "df = pd.DataFrame(te_ary, columns=te.columns_)\n",
    "# Generate frequent itemsets with a minimum support of 0.3\n",
    "frequent_itemsets = apriori(df, min_support=0.3, use_colnames=True)\n",
    "# Generate association rules with a minimum confidence of 0.7\n",
    "association_rules = association_rules(frequent_itemsets, metric=\"confidence\", min_threshold=0.7)\n",
    "# Print the frequent itemsets and association rules\n",
    "print(\"Dataset information:\")\n",
    "print(df.info())\n",
    "# Display the frequent itemsets\n",
    "print(\"\\nFrequent itemsets:\")\n",
    "print(frequent_itemsets)\n",
    "# Display the association rules\n",
    "print(\"\\nAssociation rules:\")\n",
    "print(association_rules)"
   ]
  },
  {
   "cell_type": "code",
   "execution_count": null,
   "id": "fe92efd1-63a6-4254-97c8-ef0c48b9d73b",
   "metadata": {},
   "outputs": [],
   "source": []
  }
 ],
 "metadata": {
  "kernelspec": {
   "display_name": "Python 3 (ipykernel)",
   "language": "python",
   "name": "python3"
  },
  "language_info": {
   "codemirror_mode": {
    "name": "ipython",
    "version": 3
   },
   "file_extension": ".py",
   "mimetype": "text/x-python",
   "name": "python",
   "nbconvert_exporter": "python",
   "pygments_lexer": "ipython3",
   "version": "3.11.7"
  }
 },
 "nbformat": 4,
 "nbformat_minor": 5
}
