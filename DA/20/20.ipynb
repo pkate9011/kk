{
 "cells": [
  {
   "cell_type": "code",
   "execution_count": 1,
   "id": "6329518f-638a-4724-bd62-840d3586b256",
   "metadata": {},
   "outputs": [
    {
     "name": "stdout",
     "output_type": "stream",
     "text": [
      "['Hello', ',', 'Welcome', 'Python', 'Programming', 'Academy', '.', 'Python', 'Programming', 'Academy', 'nice', 'platform', 'learn', 'new', 'programming', 'skills', '.', 'difficult', 'get', 'enrolled', 'Academy', '.']\n"
     ]
    },
    {
     "name": "stderr",
     "output_type": "stream",
     "text": [
      "[nltk_data] Downloading package stopwords to /home/sujal/nltk_data...\n",
      "[nltk_data]   Package stopwords is already up-to-date!\n"
     ]
    }
   ],
   "source": [
    "import nltk\n",
    "from nltk.corpus import stopwords\n",
    "nltk.download('stopwords')\n",
    "# Text paragraph\n",
    "text = \"\"\"Hello all, Welcome to Python Programming Academy. Python Programming Academy is a nice\n",
    "platform to learn new programming skills. It is difficult to get enrolled in this Academy.\"\"\"\n",
    "# Tokenize the text\n",
    "tokens = nltk.word_tokenize(text)\n",
    "# Remove stopwords\n",
    "stop_words = set(stopwords.words('english'))\n",
    "filtered_tokens = [word for word in tokens if not word.lower() in stop_words]\n",
    "# Print the filtered tokens\n",
    "print(filtered_tokens)"
   ]
  },
  {
   "cell_type": "code",
   "execution_count": null,
   "id": "56e63e55-5b9a-404e-bb94-0a447904e3e5",
   "metadata": {},
   "outputs": [],
   "source": []
  }
 ],
 "metadata": {
  "kernelspec": {
   "display_name": "Python 3 (ipykernel)",
   "language": "python",
   "name": "python3"
  },
  "language_info": {
   "codemirror_mode": {
    "name": "ipython",
    "version": 3
   },
   "file_extension": ".py",
   "mimetype": "text/x-python",
   "name": "python",
   "nbconvert_exporter": "python",
   "pygments_lexer": "ipython3",
   "version": "3.11.7"
  }
 },
 "nbformat": 4,
 "nbformat_minor": 5
}
