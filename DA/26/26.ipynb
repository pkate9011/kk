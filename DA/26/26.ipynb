{
 "cells": [
  {
   "cell_type": "code",
   "execution_count": 7,
   "id": "e82a364d-d54e-457b-a3a6-9f61a642e7cc",
   "metadata": {},
   "outputs": [
    {
     "name": "stdout",
     "output_type": "stream",
     "text": [
      "Hello all Welcome to Python Programming Academy  Python Programming Academy  is a nice platform to learn new programming skills It is difficult to get enrolled in this Academy \n"
     ]
    }
   ],
   "source": [
    "import re\n",
    "from nltk.tokenize import sent_tokenize\n",
    "from sklearn.feature_extraction.text import TfidfVectorizer\n",
    "from sklearn.metrics.pairwise import cosine_similarity\n",
    "# Text to summarize\n",
    "text = \"Hello all, Welcome to Python Programming Academy. 5 Python Programming Academy @ is a nice platform to learn new programming skills. It is difficult to get enrolled in this Academy.\"\n",
    "# Preprocess the text to remove special characters and digits\n",
    "preprocessed_text = re.sub(r'[^a-zA-Z\\s]', '', text)\n",
    "# Tokenize the preprocessed text into sentences\n",
    "sentences = sent_tokenize(preprocessed_text)# Calculate the importance score of each sentence using TF-IDF\n",
    "vectorizer = TfidfVectorizer()\n",
    "tfidf_matrix = vectorizer.fit_transform(sentences)\n",
    "similarity_matrix = cosine_similarity(tfidf_matrix)\n",
    "# Select top N sentences based on their importance score\n",
    "N=2\n",
    "top_sentences = sorted(range(len(similarity_matrix[-1])), key=lambda i: similarity_matrix[-1][i])[-N:]\n",
    "# Concatenate the top sentences to form the summary\n",
    "summary = ''\n",
    "for i in top_sentences:\n",
    "    for i in top_sentences:\n",
    "        summary += sentences[i] + ' '\n",
    "print(summary)"
   ]
  },
  {
   "cell_type": "code",
   "execution_count": null,
   "id": "a39343c2-3468-4887-ad0a-644d4316ee3a",
   "metadata": {},
   "outputs": [],
   "source": []
  }
 ],
 "metadata": {
  "kernelspec": {
   "display_name": "Python 3 (ipykernel)",
   "language": "python",
   "name": "python3"
  },
  "language_info": {
   "codemirror_mode": {
    "name": "ipython",
    "version": 3
   },
   "file_extension": ".py",
   "mimetype": "text/x-python",
   "name": "python",
   "nbconvert_exporter": "python",
   "pygments_lexer": "ipython3",
   "version": "3.11.7"
  }
 },
 "nbformat": 4,
 "nbformat_minor": 5
}
