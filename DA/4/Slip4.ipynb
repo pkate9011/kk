{
 "cells": [
  {
   "cell_type": "code",
   "execution_count": 6,
   "id": "56e337ac",
   "metadata": {},
   "outputs": [
    {
     "name": "stdout",
     "output_type": "stream",
     "text": [
      "Predicted weight: [8.96979367]\n"
     ]
    },
    {
     "name": "stderr",
     "output_type": "stream",
     "text": [
      "/home/mansi/anaconda3/lib/python3.11/site-packages/sklearn/base.py:464: UserWarning: X does not have valid feature names, but LinearRegression was fitted with feature names\n",
      "  warnings.warn(\n"
     ]
    }
   ],
   "source": [
    "import pandas as pd\n",
    "import random \n",
    "from sklearn.linear_model import LinearRegression\n",
    "\n",
    "fish_species = ['Tuna', 'Salmon', 'Trout', 'Bass', 'Sardine', 'Cod', 'Mackerel']\n",
    "weights = []\n",
    "\n",
    "for i in range(50):\n",
    "    fish_weight = []\n",
    "    for j in range(7):\n",
    "        weight = random.randint(1, 20)\n",
    "        fish_weight.append(weight)\n",
    "    weights.append(fish_weight)\n",
    "\n",
    "df = pd.DataFrame(weights, columns=fish_species)\n",
    "\n",
    "# create the linear regression model\n",
    "x = df.iloc[:, :-1] # independent variables\n",
    "y = df.iloc[:, -1] # target variable\n",
    "\n",
    "model = LinearRegression()\n",
    "model.fit(x, y)\n",
    "\n",
    "# predict the weight of a new fish species\n",
    "new_fish = [[10, 12, 15, 7, 4, 8]] # example input\n",
    "predicted_weight = model.predict(new_fish)\n",
    "print(\"Predicted weight:\", predicted_weight)\n"
   ]
  },
  {
   "cell_type": "code",
   "execution_count": null,
   "id": "693bde40",
   "metadata": {},
   "outputs": [],
   "source": []
  }
 ],
 "metadata": {
  "kernelspec": {
   "display_name": "Python 3 (ipykernel)",
   "language": "python",
   "name": "python3"
  },
  "language_info": {
   "codemirror_mode": {
    "name": "ipython",
    "version": 3
   },
   "file_extension": ".py",
   "mimetype": "text/x-python",
   "name": "python",
   "nbconvert_exporter": "python",
   "pygments_lexer": "ipython3",
   "version": "3.11.5"
  }
 },
 "nbformat": 4,
 "nbformat_minor": 5
}
