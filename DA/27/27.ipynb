{
 "cells": [
  {
   "cell_type": "code",
   "execution_count": null,
   "id": "83c414d6-9c80-4b4f-8b4a-1fe691d2d091",
   "metadata": {},
   "outputs": [],
   "source": []
  },
  {
   "cell_type": "code",
   "execution_count": 6,
   "id": "e2d062d3-c7a9-4584-bbcd-829c5917c0d9",
   "metadata": {},
   "outputs": [
    {
     "name": "stdout",
     "output_type": "stream",
     "text": [
      "   Customer ID    Sales\n",
      "0            1  2683.95\n",
      "1            2  2594.35\n",
      "2            3  1965.00\n",
      "3            4  3940.56\n",
      "4            5  3533.39\n",
      "5            6  3592.77\n",
      "6            7  2724.96\n",
      "7            8  2654.40\n",
      "8            9  1756.03\n",
      "9           10  2498.95\n"
     ]
    }
   ],
   "source": [
    "import random\n",
    "import csv\n",
    "# Generate random transaction data\n",
    "transactions = []\n",
    "for i in range(1, 101):\n",
    "    transaction_id = i\n",
    "    transaction_date = f\"2022-05-{random.randint(1, 31):02d}\"\n",
    "    customer_id = random.randint(1, 10)\n",
    "    item_id = random.choice([\"A\", \"B\", \"C\"])\n",
    "    item_price = round(random.uniform(10.0, 100.0), 2)\n",
    "    quantity = random.randint(1, 10)\n",
    "    transactions.append([transaction_id, transaction_date, customer_id, item_id, item_price, quantity])\n",
    "# Save the data to a CSV file\n",
    "with open('transactions.csv', 'w', newline='') as csvfile:\n",
    "    writer = csv.writer(csvfile)\n",
    "    writer.writerow([\"Transaction ID\", \"Transaction Date\", \"Customer ID\", \"Item ID\", \"Item Price\",\"Quantity\"])\n",
    "    for transaction in transactions:\n",
    "        writer.writerow(transaction)\n",
    "\n",
    "    \n",
    "import pandas as pd\n",
    "# Read the CSV file into a Pandas DataFrame\n",
    "df = pd.read_csv('transactions.csv')\n",
    "# Convert the \"Item Price\" column to numeric type\n",
    "df['Item Price'] = pd.to_numeric(df['Item Price'])\n",
    "# Calculate the sales amount for each transaction\n",
    "df['Sales'] = df['Item Price'] * df['Quantity']\n",
    "# Group the transactions by customer ID and calculate the total sales for each customer\n",
    "total_sales = df.groupby('Customer ID')['Sales'].sum().reset_index()\n",
    "# Print the results\n",
    "print(total_sales)"
   ]
  },
  {
   "cell_type": "code",
   "execution_count": null,
   "id": "38dd23c2-11d5-4fac-bc30-8edb84b27731",
   "metadata": {},
   "outputs": [],
   "source": []
  }
 ],
 "metadata": {
  "kernelspec": {
   "display_name": "Python 3 (ipykernel)",
   "language": "python",
   "name": "python3"
  },
  "language_info": {
   "codemirror_mode": {
    "name": "ipython",
    "version": 3
   },
   "file_extension": ".py",
   "mimetype": "text/x-python",
   "name": "python",
   "nbconvert_exporter": "python",
   "pygments_lexer": "ipython3",
   "version": "3.11.7"
  }
 },
 "nbformat": 4,
 "nbformat_minor": 5
}
