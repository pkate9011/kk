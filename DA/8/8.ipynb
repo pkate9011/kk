{
 "cells": [
  {
   "cell_type": "code",
   "execution_count": 12,
   "id": "c635c80f-ba17-450f-acb3-2cc011a86ee7",
   "metadata": {},
   "outputs": [
    {
     "name": "stdout",
     "output_type": "stream",
     "text": [
      "Dataset information:\n",
      "<class 'pandas.core.frame.DataFrame'>\n",
      "RangeIndex: 38766 entries, 0 to 38765\n",
      "Columns: 4796 entries, 01-01-2014 to zwieback\n",
      "dtypes: bool(4796)\n",
      "memory usage: 177.3 MB\n",
      "None\n",
      "\n",
      "Frequent itemsets:\n",
      "     support                 itemsets\n",
      "0   0.013311                   (beef)\n",
      "1   0.017722           (bottled beer)\n",
      "2   0.024067          (bottled water)\n",
      "3   0.014729            (brown bread)\n",
      "4   0.013775                 (butter)\n",
      "5   0.018496            (canned beer)\n",
      "6   0.010886                (chicken)\n",
      "7   0.020946           (citrus fruit)\n",
      "8   0.012279                 (coffee)\n",
      "9   0.013259                   (curd)\n",
      "10  0.014600          (domestic eggs)\n",
      "11  0.014962            (frankfurter)\n",
      "12  0.010963      (frozen vegetables)\n",
      "13  0.013362  (fruit/vegetable juice)\n",
      "14  0.012666              (margarine)\n",
      "15  0.015374             (newspapers)\n",
      "16  0.048960       (other vegetables)\n",
      "17  0.020250                 (pastry)\n",
      "18  0.019192              (pip fruit)\n",
      "19  0.014600                   (pork)\n",
      "20  0.044266             (rolls/buns)\n",
      "21  0.027627        (root vegetables)\n",
      "22  0.023835                (sausage)\n",
      "23  0.018857          (shopping bags)\n",
      "24  0.039055                   (soda)\n",
      "25  0.026621         (tropical fruit)\n",
      "26  0.017077     (whipped/sour cream)\n",
      "27  0.064541             (whole milk)\n",
      "28  0.034412                 (yogurt)\n",
      "\n",
      "Association rules:\n",
      "Empty DataFrame\n",
      "Columns: [antecedents, consequents, antecedent support, consequent support, support, confidence, lift, leverage, conviction, zhangs_metric]\n",
      "Index: []\n"
     ]
    }
   ],
   "source": [
    "import pandas as pd\n",
    "from mlxtend.preprocessing import TransactionEncoder\n",
    "from mlxtend.frequent_patterns import apriori, association_rules\n",
    "# Load the dataset\n",
    "df = pd.read_csv('Groceries_dataset.csv',header=None)\n",
    "# Drop any rows with null values\n",
    "df.dropna(inplace=True)\n",
    "# Convert categorical values to numeric format\n",
    "te = TransactionEncoder()\n",
    "te_ary = te.fit(df.values).transform(df.values)\n",
    "df = pd.DataFrame(te_ary, columns=te.columns_)\n",
    "df\n",
    "# Generate frequent itemsets\n",
    "frequent_itemsets = apriori(df, min_support=0.01, use_colnames=True)\n",
    "# Generate association rules\n",
    "rules = association_rules(frequent_itemsets, metric=\"lift\", min_threshold=1)\n",
    "# Display information about the dataset\n",
    "print(\"Dataset information:\")\n",
    "print(df.info())\n",
    "# Display the frequent itemsets\n",
    "print(\"\\nFrequent itemsets:\")\n",
    "print(frequent_itemsets)\n",
    "# Display the association rules\n",
    "print(\"\\nAssociation rules:\")\n",
    "print(rules)"
   ]
  },
  {
   "cell_type": "code",
   "execution_count": null,
   "id": "1fc9dccf-67d8-44c4-896e-c27e200b9779",
   "metadata": {},
   "outputs": [],
   "source": []
  }
 ],
 "metadata": {
  "kernelspec": {
   "display_name": "Python 3 (ipykernel)",
   "language": "python",
   "name": "python3"
  },
  "language_info": {
   "codemirror_mode": {
    "name": "ipython",
    "version": 3
   },
   "file_extension": ".py",
   "mimetype": "text/x-python",
   "name": "python",
   "nbconvert_exporter": "python",
   "pygments_lexer": "ipython3",
   "version": "3.11.7"
  }
 },
 "nbformat": 4,
 "nbformat_minor": 5
}
