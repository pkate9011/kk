{
 "cells": [
  {
   "cell_type": "code",
   "execution_count": 1,
   "id": "5e6e913a-5d30-4614-9001-925378e16cd7",
   "metadata": {},
   "outputs": [
    {
     "name": "stdout",
     "output_type": "stream",
     "text": [
      "Intercept: 25.892857142857146\n",
      "Coefficient: -0.305952380952381\n",
      "Predicted prices: [18.24404762 12.125       6.00595238]\n"
     ]
    }
   ],
   "source": [
    "from sklearn.linear_model import LinearRegression\n",
    "mileage = [[10], [20], [30], [40], [50], [60], [70], [80]]\n",
    "price = [24, 19, 17, 13, 10, 7, 5, 2]\n",
    "reg = LinearRegression().fit(mileage, price)\n",
    "print('Intercept:', reg.intercept_)\n",
    "print('Coefficient:', reg.coef_[0])\n",
    "new_mileage = [[25], [45], [65]]\n",
    "predicted_price = reg.predict(new_mileage)\n",
    "print('Predicted prices:', predicted_price)"
   ]
  },
  {
   "cell_type": "code",
   "execution_count": null,
   "id": "d70a2685-d7b2-48cf-aed4-fa53666eadf5",
   "metadata": {},
   "outputs": [],
   "source": []
  }
 ],
 "metadata": {
  "kernelspec": {
   "display_name": "Python 3 (ipykernel)",
   "language": "python",
   "name": "python3"
  },
  "language_info": {
   "codemirror_mode": {
    "name": "ipython",
    "version": 3
   },
   "file_extension": ".py",
   "mimetype": "text/x-python",
   "name": "python",
   "nbconvert_exporter": "python",
   "pygments_lexer": "ipython3",
   "version": "3.11.7"
  }
 },
 "nbformat": 4,
 "nbformat_minor": 5
}
