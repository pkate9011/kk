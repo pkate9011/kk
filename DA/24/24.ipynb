{
 "cells": [
  {
   "cell_type": "code",
   "execution_count": 5,
   "id": "1cb42056-afc9-4b1c-aa30-234f3034b4b2",
   "metadata": {},
   "outputs": [
    {
     "name": "stdout",
     "output_type": "stream",
     "text": [
      "Total Views: 46891975069\n",
      "Total Likes: 1618179878\n",
      "Total Dislikes: 82137919\n",
      "Total Comments: 206161849\n"
     ]
    }
   ],
   "source": [
    "import pandas as pd\n",
    "# Read the dataset\n",
    "df = pd.read_csv('CAvideos.csv')\n",
    "# Drop the columns that are not required\n",
    "df = df.drop(['video_id', 'trending_date', 'channel_title', 'category_id', 'publish_time', 'tags','thumbnail_link', 'comments_disabled', 'ratings_disabled', 'video_error_or_removed'], axis=1)\n",
    "# Convert the datatype of 'views', 'likes', 'dislikes', and 'comment_count' to integer\n",
    "df[['views', 'likes', 'dislikes', 'comment_count']] = df[['views', 'likes', 'dislikes','comment_count']].astype(int)\n",
    "# Find the total views, likes, dislikes, and comment count\n",
    "total_views = df['views'].sum()\n",
    "total_likes = df['likes'].sum()\n",
    "total_dislikes = df['dislikes'].sum()\n",
    "total_comments = df['comment_count'].sum()\n",
    "print('Total Views:', total_views)\n",
    "print('Total Likes:', total_likes)\n",
    "print('Total Dislikes:', total_dislikes)\n",
    "print('Total Comments:', total_comments)"
   ]
  },
  {
   "cell_type": "code",
   "execution_count": null,
   "id": "29bba7df-771e-4a13-8473-5314ec6447bb",
   "metadata": {},
   "outputs": [],
   "source": []
  }
 ],
 "metadata": {
  "kernelspec": {
   "display_name": "Python 3 (ipykernel)",
   "language": "python",
   "name": "python3"
  },
  "language_info": {
   "codemirror_mode": {
    "name": "ipython",
    "version": 3
   },
   "file_extension": ".py",
   "mimetype": "text/x-python",
   "name": "python",
   "nbconvert_exporter": "python",
   "pygments_lexer": "ipython3",
   "version": "3.11.7"
  }
 },
 "nbformat": 4,
 "nbformat_minor": 5
}
