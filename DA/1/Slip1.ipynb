{
 "cells": [
  {
   "cell_type": "code",
   "execution_count": 25,
   "id": "c48b6427",
   "metadata": {},
   "outputs": [
    {
     "name": "stdout",
     "output_type": "stream",
     "text": [
      "x_train:\n",
      " [[2]\n",
      " [4]\n",
      " [1]\n",
      " [5]]\n",
      "y_train:\n",
      " [ 80000 150000  50000 200000]\n",
      "x_test:\n",
      " [[6]\n",
      " [3]]\n",
      "y_test:\n",
      " [250000 110000]\n",
      "Coefficients: [37000.]\n",
      "Intercept: 9000.0\n"
     ]
    }
   ],
   "source": [
    "import numpy as np\n",
    "import pandas as pd\n",
    "from sklearn.model_selection import train_test_split\n",
    "from sklearn.linear_model import LinearRegression\n",
    "data = {'Position': ['CEO', 'charman', 'director', 'Senior Manager', 'Junior Manager', 'Intern'], \n",
    "        'Level': [1, 2, 3, 4, 5, 6], \n",
    "        'Salary': [50000, 80000, 110000, 150000, 200000, 250000]}\n",
    "df = pd.DataFrame(data)\n",
    "x = df.iloc[:, 1:2].values\n",
    "y = df.iloc[:, 2].values\n",
    "x_train, x_test, y_train, y_test = train_test_split(x, y, test_size=0.3, random_state=0)\n",
    "print(\"x_train:\\n\", x_train)\n",
    "print(\"y_train:\\n\", y_train)\n",
    "print(\"x_test:\\n\", x_test)\n",
    "print(\"y_test:\\n\", y_test)\n",
    "regressor = LinearRegression()\n",
    "regressor.fit(x_train, y_train)\n",
    "\n",
    "# Print the coefficients and intercept\n",
    "print(\"Coefficients:\", regressor.coef_)\n",
    "print(\"Intercept:\", regressor.intercept_)\n"
   ]
  },
  {
   "cell_type": "code",
   "execution_count": null,
   "id": "5d859a95",
   "metadata": {},
   "outputs": [],
   "source": []
  },
  {
   "cell_type": "code",
   "execution_count": null,
   "id": "02436a9d",
   "metadata": {},
   "outputs": [],
   "source": []
  }
 ],
 "metadata": {
  "kernelspec": {
   "display_name": "Python 3 (ipykernel)",
   "language": "python",
   "name": "python3"
  },
  "language_info": {
   "codemirror_mode": {
    "name": "ipython",
    "version": 3
   },
   "file_extension": ".py",
   "mimetype": "text/x-python",
   "name": "python",
   "nbconvert_exporter": "python",
   "pygments_lexer": "ipython3",
   "version": "3.11.5"
  }
 },
 "nbformat": 4,
 "nbformat_minor": 5
}
