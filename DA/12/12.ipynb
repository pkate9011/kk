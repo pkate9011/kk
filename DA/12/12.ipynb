{
 "cells": [
  {
   "cell_type": "code",
   "execution_count": 4,
   "id": "8402ff48-bee9-4097-bb9c-01d70a2a0542",
   "metadata": {},
   "outputs": [
    {
     "name": "stdout",
     "output_type": "stream",
     "text": [
      "Model Coefficients: [0.0314184]\n",
      "Predictions: [69.68882165 69.25321241]\n"
     ]
    }
   ],
   "source": [
    "import numpy as np\n",
    "import pandas as pd\n",
    "from sklearn.linear_model import LinearRegression\n",
    "from sklearn.model_selection import train_test_split\n",
    "# Create a random dataset with 10 samples\n",
    "heights = np.random.normal(170, 10, 10)\n",
    "weights = np.random.normal(70, 5, 10)\n",
    "# Combine the two arrays into a single dataset\n",
    "dataset = pd.DataFrame({'Height': heights, 'Weight': weights})\n",
    "# Split the dataset into training and testing sets\n",
    "X_train, X_test, y_train, y_test = train_test_split(dataset['Height'], dataset['Weight'], test_size=0.2,\n",
    "random_state=42)\n",
    "# Create a Linear Regression model and fit it to the training data\n",
    "lr_model = LinearRegression()\n",
    "lr_model.fit(X_train.values.reshape(-1, 1), y_train)\n",
    "# Print the model coefficients\n",
    "print('Model Coefficients:', lr_model.coef_)\n",
    "# Predict the weights for the test data and print the predictions\n",
    "y_pred = lr_model.predict(X_test.values.reshape(-1, 1))\n",
    "print('Predictions:', y_pred)"
   ]
  },
  {
   "cell_type": "code",
   "execution_count": null,
   "id": "a26164c6-fbb1-48e9-aa5f-b57c8af7799e",
   "metadata": {},
   "outputs": [],
   "source": []
  }
 ],
 "metadata": {
  "kernelspec": {
   "display_name": "Python 3 (ipykernel)",
   "language": "python",
   "name": "python3"
  },
  "language_info": {
   "codemirror_mode": {
    "name": "ipython",
    "version": 3
   },
   "file_extension": ".py",
   "mimetype": "text/x-python",
   "name": "python",
   "nbconvert_exporter": "python",
   "pygments_lexer": "ipython3",
   "version": "3.11.7"
  }
 },
 "nbformat": 4,
 "nbformat_minor": 5
}
